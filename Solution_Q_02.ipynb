{
 "cells": [
  {
   "cell_type": "code",
   "execution_count": 1,
   "id": "a3e40b36",
   "metadata": {},
   "outputs": [],
   "source": [
    "# Q2 [Python] A phoneme is a sound unit (similar to a character for text). We have an extensive pronunciation dictionary\n",
    "# (think millions of words). Below is a snippet:\n",
    "# ABACUS AE B AH K AH S\n",
    "# BOOK B UH K\n",
    "# THEIR DH EH R\n",
    "# THERE DH EH R\n",
    "# TOMATO T AH M AA T OW\n",
    "# TOMATO T AH M EY T OW\n",
    "# Given a sequence of phonemes as input (e.g. [\"DH\", \"EH\", \"R\", \"DH\", \"EH\", \"R\"]), find all the combinations of the words that\n",
    "# can produce this sequence (e.g. [[\"THEIR\", \"THEIR\"], [\"THEIR\", \"THERE\"], [\"THERE\", \"THEIR\"], [\"THERE\", \"THERE\"]]). You can\n",
    "# preprocess the dictionary into a different data structure if needed.\n",
    "# def find_word_combos_with_pronunciation(phonemes: Sequence[str]) -> Sequence[Sequence[str]]:\n",
    "# pass"
   ]
  },
  {
   "cell_type": "markdown",
   "id": "d30c30e8",
   "metadata": {},
   "source": [
    "## Step-01: Read Pronuniciation Dictionary into Pandas dataframe ##"
   ]
  },
  {
   "cell_type": "code",
   "execution_count": 2,
   "id": "a4b896e4",
   "metadata": {},
   "outputs": [],
   "source": [
    "# 1. Save the pronunciation dictionary into a raw text file (Ex:dictionary_eda.txt)\n",
    "# 2. Replace 1st space by tab using perl\n",
    "     # perl -pe 's/ /\\t/' dictionary_eda.txt > dictionary_eda_new.txt\n",
    "# 3. Read modified dictionary file into pandas dataframe"
   ]
  },
  {
   "cell_type": "code",
   "execution_count": 3,
   "id": "56969d8f",
   "metadata": {},
   "outputs": [
    {
     "name": "stdout",
     "output_type": "stream",
     "text": [
      "     Word      PhonemeSeq\n",
      "0  ABACUS  AE B AH K AH S\n",
      "1    BOOK          B UH K\n",
      "2   THEIR         DH EH R\n",
      "3   THERE         DH EH R\n",
      "4  TOMATO  T AH M AA T OW\n",
      "5  TOMATO  T AH M EY T OW\n"
     ]
    }
   ],
   "source": [
    "# importing pandas\n",
    "import pandas as pd\n",
    "  \n",
    "# read text file into pandas DataFrame\n",
    "df = pd.read_csv(\"dictionary_eda_new.txt\", sep=\"\\t\",header=None)\n",
    "df.columns =['Word', 'PhonemeSeq']\n",
    "# display DataFrame\n",
    "print(df)"
   ]
  },
  {
   "cell_type": "markdown",
   "id": "c2a6d361",
   "metadata": {},
   "source": [
    "## Step-02: Validate the given phoneme sequence via vLookUp"
   ]
  },
  {
   "cell_type": "code",
   "execution_count": 4,
   "id": "a2882771",
   "metadata": {},
   "outputs": [],
   "source": [
    "# seqPhone = \"DH EH R\" # example valid sequence\n",
    "seqPhone = \"T AH M EY T OW\" # example valid sequence\n",
    "# seqPhone = \"T AH M EY T Z\" # example invalid sequence\n",
    "index_from_phoneme_df = df.loc[df['PhonemeSeq'] == seqPhone]"
   ]
  },
  {
   "cell_type": "code",
   "execution_count": 5,
   "id": "4d4817bd",
   "metadata": {},
   "outputs": [
    {
     "name": "stdout",
     "output_type": "stream",
     "text": [
      "index_from_phoneme... [5]\n"
     ]
    }
   ],
   "source": [
    "index_from_phoneme = list(index_from_phoneme_df.index)\n",
    "print(\"index_from_phoneme...\",index_from_phoneme)"
   ]
  },
  {
   "cell_type": "code",
   "execution_count": 6,
   "id": "cfcf1902",
   "metadata": {},
   "outputs": [],
   "source": [
    "def find_index_phoneme_seq(seqPhone,df):\n",
    "    index_from_phoneme_df = df.loc[df['PhonemeSeq'] == seqPhone]\n",
    "    index_from_phoneme = list(index_from_phoneme_df.index)\n",
    "    return index_from_phoneme"
   ]
  },
  {
   "cell_type": "markdown",
   "id": "757bb2a0",
   "metadata": {},
   "source": [
    "## Step-03: Find the valid word boundary given the sequence of phonemes"
   ]
  },
  {
   "cell_type": "code",
   "execution_count": 7,
   "id": "05e3710c",
   "metadata": {},
   "outputs": [],
   "source": [
    "# input_seq_phone = [\"DH\", \"EH\", \"R\", \"DH\", \"EH\", \"R\"]\n",
    "# input_seq_phone = [\"DH\", \"EH\", \"R\", \"DH\", \"EH\", \"R\",\"T\", \"AH\", \"M\", \"EY\", \"T\", \"OW\"]\n",
    "\n",
    "input_seq_phone = [\"DH\", \"EH\", \"R\", \"DH\", \"EH\", \"R\",\"T\", \"AH\", \"M\", \"EY\", \"T\", \"OW\",\"DH\", \"EH\", \"R\", \"DH\", \"EH\", \"R\",\"T\", \"AH\", \"M\", \"EY\", \"T\", \"OW\"]"
   ]
  },
  {
   "cell_type": "code",
   "execution_count": 8,
   "id": "0ee8024f",
   "metadata": {},
   "outputs": [
    {
     "name": "stdout",
     "output_type": "stream",
     "text": [
      "0 DH\n",
      "\t ['DH']\n",
      "\t DH\n",
      "\t []\n",
      "1 EH\n",
      "\t ['DH', 'EH']\n",
      "\t DH EH\n",
      "\t []\n",
      "2 R\n",
      "\t ['DH', 'EH', 'R']\n",
      "\t DH EH R\n",
      "\t [2, 3]\n",
      "\t Word Breaker Index.. [2]\n",
      "3 DH\n",
      "\t ['DH']\n",
      "\t DH\n",
      "\t []\n",
      "4 EH\n",
      "\t ['DH', 'EH']\n",
      "\t DH EH\n",
      "\t []\n",
      "5 R\n",
      "\t ['DH', 'EH', 'R']\n",
      "\t DH EH R\n",
      "\t [2, 3]\n",
      "\t Word Breaker Index.. [2, 5]\n",
      "6 T\n",
      "\t ['T']\n",
      "\t T\n",
      "\t []\n",
      "7 AH\n",
      "\t ['T', 'AH']\n",
      "\t T AH\n",
      "\t []\n",
      "8 M\n",
      "\t ['T', 'AH', 'M']\n",
      "\t T AH M\n",
      "\t []\n",
      "9 EY\n",
      "\t ['T', 'AH', 'M', 'EY']\n",
      "\t T AH M EY\n",
      "\t []\n",
      "10 T\n",
      "\t ['T', 'AH', 'M', 'EY', 'T']\n",
      "\t T AH M EY T\n",
      "\t []\n",
      "11 OW\n",
      "\t ['T', 'AH', 'M', 'EY', 'T', 'OW']\n",
      "\t T AH M EY T OW\n",
      "\t [5]\n",
      "\t Word Breaker Index.. [2, 5, 11]\n",
      "12 DH\n",
      "\t ['DH']\n",
      "\t DH\n",
      "\t []\n",
      "13 EH\n",
      "\t ['DH', 'EH']\n",
      "\t DH EH\n",
      "\t []\n",
      "14 R\n",
      "\t ['DH', 'EH', 'R']\n",
      "\t DH EH R\n",
      "\t [2, 3]\n",
      "\t Word Breaker Index.. [2, 5, 11, 14]\n",
      "15 DH\n",
      "\t ['DH']\n",
      "\t DH\n",
      "\t []\n",
      "16 EH\n",
      "\t ['DH', 'EH']\n",
      "\t DH EH\n",
      "\t []\n",
      "17 R\n",
      "\t ['DH', 'EH', 'R']\n",
      "\t DH EH R\n",
      "\t [2, 3]\n",
      "\t Word Breaker Index.. [2, 5, 11, 14, 17]\n",
      "18 T\n",
      "\t ['T']\n",
      "\t T\n",
      "\t []\n",
      "19 AH\n",
      "\t ['T', 'AH']\n",
      "\t T AH\n",
      "\t []\n",
      "20 M\n",
      "\t ['T', 'AH', 'M']\n",
      "\t T AH M\n",
      "\t []\n",
      "21 EY\n",
      "\t ['T', 'AH', 'M', 'EY']\n",
      "\t T AH M EY\n",
      "\t []\n",
      "22 T\n",
      "\t ['T', 'AH', 'M', 'EY', 'T']\n",
      "\t T AH M EY T\n",
      "\t []\n",
      "23 OW\n",
      "\t ['T', 'AH', 'M', 'EY', 'T', 'OW']\n",
      "\t T AH M EY T OW\n",
      "\t [5]\n",
      "\t Word Breaker Index.. [2, 5, 11, 14, 17, 23]\n"
     ]
    }
   ],
   "source": [
    "break_point_phone_list = []\n",
    "word_index_breaker = []\n",
    "word_combo_index = []\n",
    "for inx_my_phone_list in range(len(input_seq_phone)):\n",
    "    phone_element = input_seq_phone[inx_my_phone_list]\n",
    "    print(inx_my_phone_list,phone_element)\n",
    "    break_point_phone_list.append(phone_element)\n",
    "    print(\"\\t\",break_point_phone_list)\n",
    "    str_sub_seq = ' '.join(break_point_phone_list)\n",
    "    print(\"\\t\",str_sub_seq)\n",
    "    valid_word_inx = find_index_phoneme_seq(str_sub_seq,df)\n",
    "    print(\"\\t\",valid_word_inx)\n",
    "    if valid_word_inx !=[]:\n",
    "        word_index_breaker.append(inx_my_phone_list)\n",
    "        word_combo_index.append(valid_word_inx)\n",
    "        print(\"\\t Word Breaker Index..\",word_index_breaker)\n",
    "        break_point_phone_list = []\n",
    "    "
   ]
  },
  {
   "cell_type": "code",
   "execution_count": 9,
   "id": "becefadc",
   "metadata": {},
   "outputs": [
    {
     "data": {
      "text/plain": [
       "[[2, 3], [2, 3], [5], [2, 3], [2, 3], [5]]"
      ]
     },
     "execution_count": 9,
     "metadata": {},
     "output_type": "execute_result"
    }
   ],
   "source": [
    "word_combo_index\n",
    "# Example word_combo_index = [[2, 3], [2, 3], [5], [2, 3], [2, 3], [5]]\n",
    "# >> The length of word_combo_index gives us the number of valid words which can exist given the sequence of phoeneme array\n",
    "# >> Every element in the word_combo_index will help us understand the varients of words within each similar phoneme sequence\n",
    "#    >> Ex: [2,3] implies that the word can be from 2nd index or 3rd index "
   ]
  },
  {
   "cell_type": "code",
   "execution_count": 10,
   "id": "72836852",
   "metadata": {},
   "outputs": [
    {
     "name": "stdout",
     "output_type": "stream",
     "text": [
      "[[2, 2, 2], [3, 2, 2], [2, 2, 3], [3, 2, 3]]\n"
     ]
    }
   ],
   "source": [
    "## Practice code snippet\n",
    "# # setInit = [[2],[3]]\n",
    "# setInit = [[2, 2], [3, 2]]\n",
    "# setFinal = []\n",
    "# listValInit = [2,3]\n",
    "# for valInit in listValInit:\n",
    "#     for eleW in setInit:\n",
    "#         ele1 = list(eleW) + [valInit]\n",
    "#         setFinal.append(ele1)\n",
    "\n",
    "# print(setFinal)"
   ]
  },
  {
   "cell_type": "code",
   "execution_count": 11,
   "id": "7cfb5e30",
   "metadata": {},
   "outputs": [],
   "source": [
    "def setCombo(setInit,listValInit):\n",
    "    setFinal = []\n",
    "    for valInit in listValInit:\n",
    "        for eleW in setInit:\n",
    "            ele1 = list(eleW) + [valInit]\n",
    "            setFinal.append(ele1)\n",
    "\n",
    "#     print(setFinal)\n",
    "    return setFinal\n",
    "    "
   ]
  },
  {
   "cell_type": "code",
   "execution_count": 12,
   "id": "cad54df0",
   "metadata": {},
   "outputs": [],
   "source": [
    "def extractDigits(lst):\n",
    "    return list(map(lambda el:[el], lst))"
   ]
  },
  {
   "cell_type": "code",
   "execution_count": 13,
   "id": "6c7c6f5e",
   "metadata": {},
   "outputs": [
    {
     "name": "stdout",
     "output_type": "stream",
     "text": [
      "0\n",
      "[[2], [3]]\n",
      "1\n",
      "[[2, 2], [3, 2], [2, 3], [3, 3]]\n",
      "2\n",
      "[[2, 2, 5], [3, 2, 5], [2, 3, 5], [3, 3, 5]]\n",
      "3\n",
      "[[2, 2, 5, 2], [3, 2, 5, 2], [2, 3, 5, 2], [3, 3, 5, 2], [2, 2, 5, 3], [3, 2, 5, 3], [2, 3, 5, 3], [3, 3, 5, 3]]\n",
      "4\n",
      "[[2, 2, 5, 2, 2], [3, 2, 5, 2, 2], [2, 3, 5, 2, 2], [3, 3, 5, 2, 2], [2, 2, 5, 3, 2], [3, 2, 5, 3, 2], [2, 3, 5, 3, 2], [3, 3, 5, 3, 2], [2, 2, 5, 2, 3], [3, 2, 5, 2, 3], [2, 3, 5, 2, 3], [3, 3, 5, 2, 3], [2, 2, 5, 3, 3], [3, 2, 5, 3, 3], [2, 3, 5, 3, 3], [3, 3, 5, 3, 3]]\n",
      "5\n",
      "[[2, 2, 5, 2, 2, 5], [3, 2, 5, 2, 2, 5], [2, 3, 5, 2, 2, 5], [3, 3, 5, 2, 2, 5], [2, 2, 5, 3, 2, 5], [3, 2, 5, 3, 2, 5], [2, 3, 5, 3, 2, 5], [3, 3, 5, 3, 2, 5], [2, 2, 5, 2, 3, 5], [3, 2, 5, 2, 3, 5], [2, 3, 5, 2, 3, 5], [3, 3, 5, 2, 3, 5], [2, 2, 5, 3, 3, 5], [3, 2, 5, 3, 3, 5], [2, 3, 5, 3, 3, 5], [3, 3, 5, 3, 3, 5]]\n"
     ]
    }
   ],
   "source": [
    "# word_combo_index = [[2,3],[2,3],[5],[6,1],[6,1],[16,6]]\n",
    "prevInx = []\n",
    "mainPrevSet = []\n",
    "wordInx = 0\n",
    "for eleK in word_combo_index:\n",
    "    if wordInx==0:\n",
    "        mainPrevSet = extractDigits(eleK)\n",
    "    else:\n",
    "        mainPrevSet = setCombo(mainPrevSet,eleK)\n",
    "    print(wordInx)\n",
    "    print(mainPrevSet)\n",
    "    wordInx = wordInx+1"
   ]
  },
  {
   "cell_type": "markdown",
   "id": "6e507aca",
   "metadata": {},
   "source": [
    "## Step-04: Convert dataframe index to actual words"
   ]
  },
  {
   "cell_type": "code",
   "execution_count": 14,
   "id": "bb4a8c0f",
   "metadata": {},
   "outputs": [
    {
     "name": "stdout",
     "output_type": "stream",
     "text": [
      "['THEIR', 'THEIR', 'TOMATO', 'THEIR', 'THEIR', 'TOMATO']\n",
      "['THERE', 'THEIR', 'TOMATO', 'THEIR', 'THEIR', 'TOMATO']\n",
      "['THEIR', 'THERE', 'TOMATO', 'THEIR', 'THEIR', 'TOMATO']\n",
      "['THERE', 'THERE', 'TOMATO', 'THEIR', 'THEIR', 'TOMATO']\n",
      "['THEIR', 'THEIR', 'TOMATO', 'THERE', 'THEIR', 'TOMATO']\n",
      "['THERE', 'THEIR', 'TOMATO', 'THERE', 'THEIR', 'TOMATO']\n",
      "['THEIR', 'THERE', 'TOMATO', 'THERE', 'THEIR', 'TOMATO']\n",
      "['THERE', 'THERE', 'TOMATO', 'THERE', 'THEIR', 'TOMATO']\n",
      "['THEIR', 'THEIR', 'TOMATO', 'THEIR', 'THERE', 'TOMATO']\n",
      "['THERE', 'THEIR', 'TOMATO', 'THEIR', 'THERE', 'TOMATO']\n",
      "['THEIR', 'THERE', 'TOMATO', 'THEIR', 'THERE', 'TOMATO']\n",
      "['THERE', 'THERE', 'TOMATO', 'THEIR', 'THERE', 'TOMATO']\n",
      "['THEIR', 'THEIR', 'TOMATO', 'THERE', 'THERE', 'TOMATO']\n",
      "['THERE', 'THEIR', 'TOMATO', 'THERE', 'THERE', 'TOMATO']\n",
      "['THEIR', 'THERE', 'TOMATO', 'THERE', 'THERE', 'TOMATO']\n",
      "['THERE', 'THERE', 'TOMATO', 'THERE', 'THERE', 'TOMATO']\n"
     ]
    }
   ],
   "source": [
    "wordCombinationFinal = [[]]\n",
    "for indexWord in mainPrevSet:\n",
    "    wordCombinationIndividual = []\n",
    "    for split in indexWord:\n",
    "        actualWord = df['Word'][split]\n",
    "        wordCombinationIndividual.append(actualWord)\n",
    "    print(wordCombinationIndividual)\n",
    "    wordCombinationFinal.append(wordCombinationIndividual)"
   ]
  },
  {
   "cell_type": "code",
   "execution_count": 15,
   "id": "b8417870",
   "metadata": {},
   "outputs": [],
   "source": [
    "result = wordCombinationFinal[1:]"
   ]
  },
  {
   "cell_type": "code",
   "execution_count": 16,
   "id": "5f8c3f11",
   "metadata": {},
   "outputs": [
    {
     "name": "stdout",
     "output_type": "stream",
     "text": [
      "[['THEIR', 'THEIR', 'TOMATO', 'THEIR', 'THEIR', 'TOMATO'], ['THERE', 'THEIR', 'TOMATO', 'THEIR', 'THEIR', 'TOMATO'], ['THEIR', 'THERE', 'TOMATO', 'THEIR', 'THEIR', 'TOMATO'], ['THERE', 'THERE', 'TOMATO', 'THEIR', 'THEIR', 'TOMATO'], ['THEIR', 'THEIR', 'TOMATO', 'THERE', 'THEIR', 'TOMATO'], ['THERE', 'THEIR', 'TOMATO', 'THERE', 'THEIR', 'TOMATO'], ['THEIR', 'THERE', 'TOMATO', 'THERE', 'THEIR', 'TOMATO'], ['THERE', 'THERE', 'TOMATO', 'THERE', 'THEIR', 'TOMATO'], ['THEIR', 'THEIR', 'TOMATO', 'THEIR', 'THERE', 'TOMATO'], ['THERE', 'THEIR', 'TOMATO', 'THEIR', 'THERE', 'TOMATO'], ['THEIR', 'THERE', 'TOMATO', 'THEIR', 'THERE', 'TOMATO'], ['THERE', 'THERE', 'TOMATO', 'THEIR', 'THERE', 'TOMATO'], ['THEIR', 'THEIR', 'TOMATO', 'THERE', 'THERE', 'TOMATO'], ['THERE', 'THEIR', 'TOMATO', 'THERE', 'THERE', 'TOMATO'], ['THEIR', 'THERE', 'TOMATO', 'THERE', 'THERE', 'TOMATO'], ['THERE', 'THERE', 'TOMATO', 'THERE', 'THERE', 'TOMATO']]\n"
     ]
    }
   ],
   "source": [
    "print(result)"
   ]
  }
 ],
 "metadata": {
  "kernelspec": {
   "display_name": "Python 3 (ipykernel)",
   "language": "python",
   "name": "python3"
  },
  "language_info": {
   "codemirror_mode": {
    "name": "ipython",
    "version": 3
   },
   "file_extension": ".py",
   "mimetype": "text/x-python",
   "name": "python",
   "nbconvert_exporter": "python",
   "pygments_lexer": "ipython3",
   "version": "3.8.2"
  }
 },
 "nbformat": 4,
 "nbformat_minor": 5
}
