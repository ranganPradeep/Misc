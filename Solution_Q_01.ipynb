{
 "cells": [
  {
   "cell_type": "code",
   "execution_count": 1,
   "id": "8cce5c3c",
   "metadata": {},
   "outputs": [],
   "source": [
    "# #Question-01:\n",
    "\n",
    "# Q1 [Python] The probability of rain on a given calendar day in Vancouver is p[i], where i is the day's index. For example,\n",
    "# p[0] is the probability of rain on January 1\n",
    "# st\n",
    "# , and p[10] is the probability of precipitation on January 11\n",
    "# th\n",
    "# . Assume the year\n",
    "# has 365 days (i.e. p has 365 elements). What is the chance it rains more than n (e.g. 100) days in Vancouver? Write a\n",
    "# function that accepts p (probabilities of rain on a given calendar day) and n as input arguments and returns the\n",
    "# possibility of raining at least n days.\n",
    "# def prob_rain_more_than_n(p: Sequence[float], n: int) -> float:\n",
    "# pass"
   ]
  },
  {
   "cell_type": "code",
   "execution_count": 2,
   "id": "4548c22c",
   "metadata": {},
   "outputs": [],
   "source": [
    "#p0 - rain on Jan-1 | day - 0+1\n",
    "#p1 - rain on Jan-2 | day - 1+1\n",
    "#p10 - rain on Jan-11 | day -10+1\n",
    "#p364 - rain on Dec-31 | day - 364+1"
   ]
  },
  {
   "cell_type": "code",
   "execution_count": 3,
   "id": "3bf4e98c",
   "metadata": {},
   "outputs": [],
   "source": [
    "#prob(it rains in first 4 days) = p0 * p1 * p2 * p3 * (1-p4) * (1-p5) .... (1-p364)\n",
    "# P = p0 = p1 = ... p364\n",
    "# prob(it rains in first 4 days) = (P)^4 * (1-P) ^ 365-4\n",
    "# prob(it rains in first n days) = (P)^n * (1-P) ^ 365-n"
   ]
  },
  {
   "cell_type": "code",
   "execution_count": 4,
   "id": "e4f0325d",
   "metadata": {},
   "outputs": [],
   "source": [
    "#Let P - prob rain\n",
    "#Let Q be prob of not rain\n",
    "# i.e prob(it rains atleast 4 days) = prob(rain for 1st 4 days) * prob(not rain for 5th to 365th day) +\n",
    "#                                     prob(rain for 1st 5 days) * prob(not rain for 6th to 365th day) +\n",
    "#                                     prob(rain for 1st 6 days) * prob(not rain for 7th to 365th day) +\n",
    "#                                     ....\n",
    "#                                     prob(rain for 1st 365 days) * 1 +\n",
    "#prob(it rains atleast 4 days) = (P)^4 * Q^365-4 \n",
    "#                                  + (P)^5 * Q^365-5\n",
    "#                                  + P^6 * Q^365-6 + ..... \n",
    "#                                  + P^365"
   ]
  },
  {
   "cell_type": "markdown",
   "id": "cd24f07b",
   "metadata": {},
   "source": [
    "## Function to find the probability of raining for first n days"
   ]
  },
  {
   "cell_type": "code",
   "execution_count": 5,
   "id": "91282f5b",
   "metadata": {},
   "outputs": [],
   "source": [
    "def prob_rain_first_n_days(p,n):\n",
    "    return pow(p,n) * pow((1-p),(365-n))"
   ]
  },
  {
   "cell_type": "markdown",
   "id": "24e7d187",
   "metadata": {},
   "source": [
    "## Function to find the probability of raining atleast n days"
   ]
  },
  {
   "cell_type": "code",
   "execution_count": 6,
   "id": "79b570f4",
   "metadata": {},
   "outputs": [],
   "source": [
    "def prob_rain_more_than_n(p, n):\n",
    "    min2maxRange = range(int(n),366) # choose the range of days between n and 365\n",
    "    final_prob = 0\n",
    "    for dt in min2maxRange:\n",
    "        res_first_n_days = prob_rain_first_n_days(float(p),dt)\n",
    "#         print(\"prob it rains for 1st {0} days = {1}\".format(dt,res_first_n_days))\n",
    "        final_prob = final_prob + res_first_n_days\n",
    "    return final_prob"
   ]
  },
  {
   "cell_type": "code",
   "execution_count": 7,
   "id": "c42071fa",
   "metadata": {},
   "outputs": [
    {
     "name": "stdout",
     "output_type": "stream",
     "text": [
      "Please enter the prob of rain [val between 0 and 1]\n",
      "0.9\n",
      "Enter the minimum number of days for which rain estimates needs to be made\n",
      "100\n"
     ]
    }
   ],
   "source": [
    "# n = 100 # minimum # days\n",
    "# p = 0.9 # probability of rain\n",
    "p = input('Please enter the prob of rain [val between 0 and 1]\\n')\n",
    "n = input('Enter the minimum number of days for which rain estimates needs to be made\\n')\n",
    "\n"
   ]
  },
  {
   "cell_type": "code",
   "execution_count": 8,
   "id": "a0de3beb",
   "metadata": {},
   "outputs": [
    {
     "name": "stdout",
     "output_type": "stream",
     "text": [
      "The probability it rains atleast 100 days in Vancouver with prob_rain = 0.9 is 2.237012793306652e-17\n"
     ]
    }
   ],
   "source": [
    "prob_result = prob_rain_more_than_n(p, n)\n",
    "\n",
    "print(\"The probability it rains atleast {0} days in Vancouver with prob_rain = {1} is {2}\".format(n,p,prob_result))"
   ]
  }
 ],
 "metadata": {
  "kernelspec": {
   "display_name": "Python 3 (ipykernel)",
   "language": "python",
   "name": "python3"
  },
  "language_info": {
   "codemirror_mode": {
    "name": "ipython",
    "version": 3
   },
   "file_extension": ".py",
   "mimetype": "text/x-python",
   "name": "python",
   "nbconvert_exporter": "python",
   "pygments_lexer": "ipython3",
   "version": "3.8.2"
  }
 },
 "nbformat": 4,
 "nbformat_minor": 5
}
